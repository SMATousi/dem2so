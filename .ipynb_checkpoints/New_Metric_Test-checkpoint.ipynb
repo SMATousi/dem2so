{
 "cells": [
  {
   "cell_type": "code",
   "execution_count": 65,
   "id": "dcd56b9e",
   "metadata": {},
   "outputs": [],
   "source": [
    "import os\n",
    "import torch\n",
    "import torch.nn as nn\n",
    "import torch.optim as optim\n",
    "from torch.utils.data import DataLoader, random_split\n",
    "from torchvision import transforms\n",
    "from sklearn.model_selection import train_test_split\n",
    "import random\n",
    "import numpy as np\n",
    "from tqdm import tqdm\n",
    "import argparse\n",
    "import wandb\n",
    "from os.path import splitext\n",
    "from os import listdir\n",
    "import numpy as np\n",
    "import os\n",
    "from glob import glob\n",
    "import torch\n",
    "from torch.utils.data import Dataset\n",
    "import logging\n",
    "from PIL import Image\n",
    "from torchvision.transforms import functional as TF\n",
    "import torch\n",
    "from torch.utils.data import DataLoader\n",
    "from torchvision import transforms\n",
    "import imageio.v2 as imageio\n",
    "import torch\n",
    "import torch.nn as nn\n",
    "import torch.nn.functional as F\n",
    "import torchvision.transforms.functional as TF\n",
    "from torch.utils.data import Dataset, DataLoader, random_split\n",
    "from torchvision import transforms\n",
    "from torchvision import models\n",
    "from PIL import Image\n",
    "from tqdm import tqdm\n",
    "import matplotlib.pyplot as plt\n",
    "import os\n",
    "import glob\n",
    "import wandb\n",
    "import random\n",
    "import numpy as np\n",
    "from scipy.ndimage import distance_transform_edt\n",
    "from model import *\n",
    "from utils import *\n",
    "from dataset import *"
   ]
  },
  {
   "cell_type": "code",
   "execution_count": 100,
   "id": "c7549d07",
   "metadata": {},
   "outputs": [],
   "source": [
    "from skimage.morphology import skeletonize, skeletonize_3d\n",
    "import numpy as np\n",
    "\n"
   ]
  },
  {
   "cell_type": "code",
   "execution_count": 2,
   "id": "a0e41487",
   "metadata": {},
   "outputs": [],
   "source": [
    "random.seed(0)\n",
    "np.random.seed(0)\n",
    "torch.manual_seed(0)\n",
    "torch.backends.cudnn.deterministic = True\n",
    "torch.backends.cudnn.benchmark = False"
   ]
  },
  {
   "cell_type": "code",
   "execution_count": 142,
   "id": "5fca3879",
   "metadata": {
    "scrolled": true
   },
   "outputs": [
    {
     "data": {
      "text/html": [
       "Finishing last run (ID:zqei3cxi) before initializing another..."
      ],
      "text/plain": [
       "<IPython.core.display.HTML object>"
      ]
     },
     "metadata": {},
     "output_type": "display_data"
    },
    {
     "data": {
      "text/html": [
       "Waiting for W&B process to finish... <strong style=\"color:green\">(success).</strong>"
      ],
      "text/plain": [
       "<IPython.core.display.HTML object>"
      ]
     },
     "metadata": {},
     "output_type": "display_data"
    },
    {
     "data": {
      "text/html": [
       " View run <strong style=\"color:#cdcd00\">drawn-cosmos-14</strong> at: <a href='https://wandb.ai/tousi-team/RGB_DEM_2_SO_New_Loss/runs/zqei3cxi' target=\"_blank\">https://wandb.ai/tousi-team/RGB_DEM_2_SO_New_Loss/runs/zqei3cxi</a><br/>Synced 6 W&B file(s), 0 media file(s), 2 artifact file(s) and 0 other file(s)"
      ],
      "text/plain": [
       "<IPython.core.display.HTML object>"
      ]
     },
     "metadata": {},
     "output_type": "display_data"
    },
    {
     "data": {
      "text/html": [
       "Find logs at: <code>./wandb/run-20240605_134539-zqei3cxi/logs</code>"
      ],
      "text/plain": [
       "<IPython.core.display.HTML object>"
      ]
     },
     "metadata": {},
     "output_type": "display_data"
    },
    {
     "data": {
      "text/html": [
       "Successfully finished last run (ID:zqei3cxi). Initializing new run:<br/>"
      ],
      "text/plain": [
       "<IPython.core.display.HTML object>"
      ]
     },
     "metadata": {},
     "output_type": "display_data"
    },
    {
     "data": {
      "application/vnd.jupyter.widget-view+json": {
       "model_id": "9a366ecbae1542ac8a4937930edd015e",
       "version_major": 2,
       "version_minor": 0
      },
      "text/plain": [
       "VBox(children=(Label(value='Waiting for wandb.init()...\\r'), FloatProgress(value=0.0166710599946479, max=1.0))…"
      ]
     },
     "metadata": {},
     "output_type": "display_data"
    },
    {
     "data": {
      "text/html": [
       "wandb version 0.17.1 is available!  To upgrade, please run:\n",
       " $ pip install wandb --upgrade"
      ],
      "text/plain": [
       "<IPython.core.display.HTML object>"
      ]
     },
     "metadata": {},
     "output_type": "display_data"
    },
    {
     "data": {
      "text/html": [
       "Tracking run with wandb version 0.15.4"
      ],
      "text/plain": [
       "<IPython.core.display.HTML object>"
      ]
     },
     "metadata": {},
     "output_type": "display_data"
    },
    {
     "data": {
      "text/html": [
       "Run data is saved locally in <code>/home/macula/SMATousi/Gullies/ground_truth/google_api/training_process/DEM2SO/code/dem2so/wandb/run-20240612_143611-1erar3gg</code>"
      ],
      "text/plain": [
       "<IPython.core.display.HTML object>"
      ]
     },
     "metadata": {},
     "output_type": "display_data"
    },
    {
     "data": {
      "text/html": [
       "Syncing run <strong><a href='https://wandb.ai/tousi-team/RGB_DEM_2_SO_New_Loss/runs/1erar3gg' target=\"_blank\">deft-sun-15</a></strong> to <a href='https://wandb.ai/tousi-team/RGB_DEM_2_SO_New_Loss' target=\"_blank\">Weights & Biases</a> (<a href='https://wandb.me/run' target=\"_blank\">docs</a>)<br/>"
      ],
      "text/plain": [
       "<IPython.core.display.HTML object>"
      ]
     },
     "metadata": {},
     "output_type": "display_data"
    },
    {
     "data": {
      "text/html": [
       " View project at <a href='https://wandb.ai/tousi-team/RGB_DEM_2_SO_New_Loss' target=\"_blank\">https://wandb.ai/tousi-team/RGB_DEM_2_SO_New_Loss</a>"
      ],
      "text/plain": [
       "<IPython.core.display.HTML object>"
      ]
     },
     "metadata": {},
     "output_type": "display_data"
    },
    {
     "data": {
      "text/html": [
       " View run at <a href='https://wandb.ai/tousi-team/RGB_DEM_2_SO_New_Loss/runs/1erar3gg' target=\"_blank\">https://wandb.ai/tousi-team/RGB_DEM_2_SO_New_Loss/runs/1erar3gg</a>"
      ],
      "text/plain": [
       "<IPython.core.display.HTML object>"
      ]
     },
     "metadata": {},
     "output_type": "display_data"
    },
    {
     "name": "stderr",
     "output_type": "stream",
     "text": [
      "\u001b[34m\u001b[1mwandb\u001b[0m: Downloading large artifact model_epoch_600:v4, 144.44MB. 1 files... \n",
      "\u001b[34m\u001b[1mwandb\u001b[0m:   1 of 1 files downloaded.  \n",
      "Done. 0:0:16.6\n"
     ]
    }
   ],
   "source": [
    "run = wandb.init(project=\"RGB_DEM_2_SO_New_Loss\")\n",
    "artifact = run.use_artifact('tousi-team/RGB_DEM_2_SO/model_epoch_600:v4', type='model')\n",
    "artifact_dir = artifact.download(\"./artifacts/old_loss/\")"
   ]
  },
  {
   "cell_type": "code",
   "execution_count": 4,
   "id": "c82b6401",
   "metadata": {},
   "outputs": [],
   "source": [
    "dem_dir = '/home/macula/SMATousi/Gullies/ground_truth/google_api/training_process/DEM2SO/New_Data/dem'\n",
    "so_dir = '/home/macula/SMATousi/Gullies/ground_truth/google_api/training_process/DEM2SO/New_Data/so'\n",
    "rgb_dir = '/home/macula/SMATousi/Gullies/ground_truth/google_api/training_process/DEM2SO/New_Data/rgb'\n",
    "pretrained_model_path = '/home/macula/SMATousi/cluster/docker-images/dem2so_more_data/pre_models/B3_rn50_moco_0099_ckpt.pth'\n",
    "\n"
   ]
  },
  {
   "cell_type": "code",
   "execution_count": 5,
   "id": "9acd4be0",
   "metadata": {},
   "outputs": [],
   "source": [
    "transform = RGB_RasterTransform()\n",
    "    \n",
    "dataset = RGB_RasterTilesDataset(dem_dir=dem_dir, so_dir=so_dir, rgb_dir=rgb_dir, transform=transform)"
   ]
  },
  {
   "cell_type": "code",
   "execution_count": 6,
   "id": "35d0c840",
   "metadata": {},
   "outputs": [],
   "source": [
    "batch_size = 1\n",
    "learning_rate = 0.0001\n",
    "epochs = 1\n",
    "number_of_workers = 0\n",
    "image_size = 128\n",
    "val_percent = 0.1\n",
    "\n",
    "n_val = int(len(dataset) * val_percent)\n",
    "n_train = len(dataset) - n_val\n",
    "train, val = random_split(dataset, [n_train, n_val])\n",
    "train_loader = DataLoader(train, batch_size=batch_size, shuffle=True, num_workers=number_of_workers, pin_memory=True)\n",
    "val_loader = DataLoader(val, batch_size=batch_size, shuffle=False, num_workers=number_of_workers, pin_memory=True, drop_last=True)\n",
    "\n",
    "device = torch.device(\"cuda\" if torch.cuda.is_available() else \"cpu\")\n",
    "\n",
    "    "
   ]
  },
  {
   "cell_type": "code",
   "execution_count": 7,
   "id": "51afd624",
   "metadata": {},
   "outputs": [
    {
     "name": "stdout",
     "output_type": "stream",
     "text": [
      "cuda\n"
     ]
    }
   ],
   "source": [
    "print(device)"
   ]
  },
  {
   "cell_type": "code",
   "execution_count": 8,
   "id": "990e1f44",
   "metadata": {},
   "outputs": [],
   "source": [
    "model = RGB_DEM_to_SO(resnet_output_size=(8, 8), \n",
    "                            fusion_output_size=(128, 128), \n",
    "                            model_choice = \"Unet_1\", \n",
    "                            resnet_saved_model_path=pretrained_model_path,\n",
    "                            dropout_rate=0.5).to(device)"
   ]
  },
  {
   "cell_type": "code",
   "execution_count": 9,
   "id": "e5e92a72",
   "metadata": {},
   "outputs": [],
   "source": [
    "from torch.optim import Adam\n",
    "criterion = nn.CrossEntropyLoss()\n",
    "optimizer = Adam(model.parameters(), lr=learning_rate)\n",
    "scheduler = torch.optim.lr_scheduler.StepLR(optimizer, step_size=100, gamma=0.1)"
   ]
  },
  {
   "cell_type": "code",
   "execution_count": null,
   "id": "4bc9451d",
   "metadata": {},
   "outputs": [],
   "source": [
    "artifact_dir = artifact.download()"
   ]
  },
  {
   "cell_type": "code",
   "execution_count": 143,
   "id": "d1dfd3ad",
   "metadata": {},
   "outputs": [],
   "source": [
    "state_dict_old = torch.load('./artifacts/old_loss/model_epoch_600.pth')\n",
    "new_state_dict_old = {k.replace('module.', ''): v for k, v in state_dict_old.items()}\n",
    "\n",
    "state_dict_new = torch.load('./artifacts/new_loss/model_epoch_600.pth')\n",
    "new_state_dict_new = {k.replace('module.', ''): v for k, v in state_dict_new.items()}"
   ]
  },
  {
   "cell_type": "code",
   "execution_count": 28,
   "id": "175ac8a0",
   "metadata": {},
   "outputs": [],
   "source": []
  },
  {
   "cell_type": "code",
   "execution_count": 144,
   "id": "c7308490",
   "metadata": {},
   "outputs": [
    {
     "data": {
      "text/plain": [
       "<All keys matched successfully>"
      ]
     },
     "execution_count": 144,
     "metadata": {},
     "output_type": "execute_result"
    }
   ],
   "source": [
    "model_old_loss.load_state_dict(new_state_dict_old)\n",
    "model_new_loss.load_state_dict(new_state_dict_new)\n"
   ]
  },
  {
   "cell_type": "code",
   "execution_count": 287,
   "id": "83e8220a",
   "metadata": {},
   "outputs": [],
   "source": [
    "\n",
    "\n",
    "\n",
    "def new_similarity_metric(mask_gt, mask_pred, r):\n",
    "    \n",
    "    mask_gt = mask_gt.cpu().numpy().squeeze()\n",
    "    mask_pred = mask_pred.cpu().numpy().squeeze()\n",
    "    \n",
    "    height, width = mask_gt.shape\n",
    "    total_score = 0\n",
    "\n",
    "    # Initialize score and distance arrays\n",
    "    scores = np.zeros((height, width, np.max(np.unique(mask_gt)) + 1))\n",
    "\n",
    "    # Iterate over each unique class in the ground truth\n",
    "    for class_value in np.unique(mask_gt):\n",
    "        # Create a mask for the current class\n",
    "        class_mask = (mask_gt == class_value)\n",
    "#         print(\"class_mask\")\n",
    "#         print(class_mask)\n",
    "        \n",
    "        # Compute the distance transform for the current class\n",
    "        class_distances = distance_transform_edt(~class_mask)\n",
    "#         print(\"class_distances\")\n",
    "#         print(class_distances)\n",
    "\n",
    "        # Evaluate predictions within radius r for this class\n",
    "        near_mask = (class_distances <= r)\n",
    "#         print(\"near_mask\")\n",
    "#         print(near_mask)\n",
    "        exact_mask = (mask_pred == class_value)\n",
    "#         print(\"exact_mask\")\n",
    "#         print(exact_mask)\n",
    "\n",
    "        # Scoring: exact location and same class\n",
    "        scores[:,:,class_value] += 100 * (class_mask & exact_mask)\n",
    "        \n",
    "        # Scoring: within r distance and same class\n",
    "        scores[:,:,class_value] += 50 * near_mask & exact_mask\n",
    "        \n",
    "        # Scoring: exact location but class mismatch within one level tolerance\n",
    "        tolerance_mask = (np.abs(mask_pred - class_value) == 1)\n",
    "        scores[:,:,class_value] += 50 * (class_mask & tolerance_mask)\n",
    "\n",
    "        # Scoring: within r distance and class mismatch within one level tolerance\n",
    "        scores[:,:,class_value] += 25 * (near_mask & tolerance_mask)\n",
    "\n",
    "    # Normalize the total score by the maximum possible score\n",
    "    max_score = height * width * 100\n",
    "#     print(max_score)\n",
    "#     print(np.sum(scores))\n",
    "    total_normalized_score = []\n",
    "    for class_value in np.unique(mask_gt):\n",
    "\n",
    "        normalized_score = np.sum(scores[:,:,class_value]) / max_score\n",
    "        total_normalized_score.append(normalized_score)\n",
    "    \n",
    "    return np.mean(np.array(total_normalized_score))\n",
    "\n",
    "def cl_score(v, s):\n",
    "    \"\"\"[this function computes the skeleton volume overlap]\n",
    "\n",
    "    Args:\n",
    "        v ([bool]): [image]\n",
    "        s ([bool]): [skeleton]\n",
    "\n",
    "    Returns:\n",
    "        [float]: [computed skeleton volume intersection]\n",
    "    \"\"\"\n",
    "    return np.sum(v*s)/np.sum(s)\n",
    "\n",
    "\n",
    "def clDice(v_p, v_l):\n",
    "    \"\"\"[this function computes the cldice metric]\n",
    "\n",
    "    Args:\n",
    "        v_p ([bool]): [predicted image]\n",
    "        v_l ([bool]): [ground truth image]\n",
    "\n",
    "    Returns:\n",
    "        [float]: [cldice metric]\n",
    "    \"\"\"\n",
    "    if len(v_p.shape)==2:\n",
    "        tprec = cl_score(v_p,skeletonize(v_l))\n",
    "        tsens = cl_score(v_l,skeletonize(v_p))\n",
    "    elif len(v_p.shape)==3:\n",
    "        tprec = cl_score(v_p,skeletonize_3d(v_l))\n",
    "        tsens = cl_score(v_l,skeletonize_3d(v_p))\n",
    "    return 2*tprec*tsens/(tprec+tsens)\n",
    "\n",
    "def mIOU_clDice(label, pred, num_classes=9):\n",
    "    pred = F.softmax(pred, dim=1)              \n",
    "    pred = torch.argmax(pred, dim=1).squeeze(1)\n",
    "\n",
    "#     label = label.cpu().detach()\n",
    "#     pred = pred.cpu().detach()\n",
    "    \n",
    "    iou_list = list()\n",
    "    present_iou_list = list()\n",
    "    cldice_list = list()\n",
    "    present_cldice_list = list()\n",
    "\n",
    "\n",
    "    for sem_class in range(num_classes):\n",
    "        pred_inds = (pred == sem_class)\n",
    "        target_inds = (label == sem_class)\n",
    "        if target_inds.long().sum().item() == 0:\n",
    "            iou_now = float('nan')\n",
    "            cldice_now = float('nan')\n",
    "        else: \n",
    "            intersection_now = (pred_inds[target_inds]).long().sum().item()\n",
    "            union_now = pred_inds.long().sum().item() + target_inds.long().sum().item() - intersection_now\n",
    "            iou_now = float(intersection_now) / float(union_now)\n",
    "            cldice_now = clDice(pred_inds.cpu().numpy(), target_inds.cpu().numpy())\n",
    "            present_cldice_list.append(cldice_now)\n",
    "            present_iou_list.append(iou_now)\n",
    "\n",
    "        iou_list.append(iou_now)\n",
    "        cldice_list.append(pred_inds)\n",
    "    return np.nanmean(present_cldice_list), np.mean(present_iou_list)\n",
    "\n",
    "\n",
    "def mIOU(label, pred, num_classes=9):\n",
    "    pred = F.softmax(pred, dim=1)              \n",
    "    pred = torch.argmax(pred, dim=1).squeeze(1)\n",
    "    iou_list = list()\n",
    "    present_iou_list = list()\n",
    "\n",
    "\n",
    "    for sem_class in range(num_classes):\n",
    "        pred_inds = (pred == sem_class)\n",
    "        target_inds = (label == sem_class)\n",
    "        if target_inds.long().sum().item() == 0:\n",
    "            iou_now = float('nan')\n",
    "        else: \n",
    "            intersection_now = (pred_inds[target_inds]).long().sum().item()\n",
    "            union_now = pred_inds.long().sum().item() + target_inds.long().sum().item() - intersection_now\n",
    "            iou_now = float(intersection_now) / float(union_now)\n",
    "            present_iou_list.append(iou_now)\n",
    "\n",
    "        iou_list.append(iou_now)\n",
    "    return iou_list, present_iou_list, np.mean(present_iou_list)\n",
    "\n",
    "import torch\n",
    "import numpy as np\n",
    "\n",
    "def mIOU_with_true_toleramce(label, pred, num_classes=9):\n",
    "    pred = F.softmax(pred, dim=1)              \n",
    "    pred = torch.argmax(pred, dim=1).squeeze(1)\n",
    "    iou_list = list()\n",
    "    present_iou_list = list()\n",
    "\n",
    "#     pred = pred.view(-1)\n",
    "#     label = label.view(-1)\n",
    "    # Note: Following for loop goes from 0 to (num_classes-1)\n",
    "    # and ignore_index is num_classes, thus ignore_index is\n",
    "    # not considered in computation of IoU.\n",
    "    for sem_class in range(num_classes):\n",
    "        pred_inds = (pred == sem_class)\n",
    "        if (sem_class == 1):\n",
    "            pred_inds_tol = (pred == sem_class - 1) \n",
    "        elif (sem_class > 1):\n",
    "            pred_inds_tol = (pred == sem_class - 1) \n",
    "            pred_inds_tol_2 = (pred == sem_class - 2) \n",
    "        target_inds = (label == sem_class)\n",
    "        if target_inds.long().sum().item() == 0:\n",
    "            iou_now = float('nan')\n",
    "        else: \n",
    "            if (sem_class == 1):\n",
    "                intersection_now = (pred_inds[target_inds]).long().sum().item()\n",
    "                tol_intersection_now = (pred_inds_tol[target_inds]).long().sum().item()\n",
    "                union_now = pred_inds.long().sum().item() + target_inds.long().sum().item() - intersection_now\n",
    "                iou_now = (float(intersection_now) + float(tol_intersection_now)) / float(union_now)\n",
    "                present_iou_list.append(iou_now)\n",
    "            elif (sem_class > 1):\n",
    "                intersection_now = (pred_inds[target_inds]).long().sum().item()\n",
    "                tol_intersection_now = (pred_inds_tol[target_inds]).long().sum().item()\n",
    "                tol2_intersection_now = (pred_inds_tol_2[target_inds]).long().sum().item()\n",
    "                union_now = pred_inds.long().sum().item() + target_inds.long().sum().item() - intersection_now\n",
    "                iou_now = (float(intersection_now) + float(tol_intersection_now) + float(tol2_intersection_now)) / float(union_now)\n",
    "                present_iou_list.append(iou_now)\n",
    "            else:\n",
    "                intersection_now = (pred_inds[target_inds]).long().sum().item()\n",
    "                union_now = pred_inds.long().sum().item() + target_inds.long().sum().item() - intersection_now\n",
    "                iou_now = (float(intersection_now)) / float(union_now)\n",
    "                present_iou_list.append(iou_now)\n",
    "            # print(iou_now)\n",
    "        iou_list.append(iou_now)\n",
    "    return iou_list, present_iou_list, np.mean(present_iou_list)\n",
    "\n",
    "def mIOU_with_tolerance(label, pred, num_classes=9):\n",
    "    pred = torch.softmax(pred, dim=1)\n",
    "    pred = torch.argmax(pred, dim=1)\n",
    "\n",
    "    # Flatten label and prediction tensors\n",
    "#     pred = pred.view(-1)\n",
    "#     label = label.view(-1)\n",
    "\n",
    "    iou_list = []\n",
    "    present_iou_list = []\n",
    "\n",
    "    for sem_class in range(num_classes):\n",
    "        # Adjusting for tolerance: consider predictions that are one level above or below the target class\n",
    "        pred_inds = ((pred == sem_class) | (pred == sem_class - 1) & (pred > 0) | (pred == sem_class + 1) & (pred < num_classes - 1))\n",
    "        target_inds = ((label == sem_class) | (label == sem_class - 1) & (label > 0) | (label == sem_class + 1) & (label < num_classes - 1))\n",
    "\n",
    "        if target_inds.long().sum().item() == 0:\n",
    "            iou_now = float('nan')  # Class not present in the label\n",
    "        else:\n",
    "            intersection_now = (pred_inds & target_inds).long().sum().item()\n",
    "            union_now = pred_inds.long().sum().item() + target_inds.long().sum().item() - intersection_now\n",
    "            iou_now = float(intersection_now) / float(union_now)\n",
    "            present_iou_list.append(iou_now)\n",
    "\n",
    "        iou_list.append(iou_now)\n",
    "\n",
    "    # Compute the mean of the present IoU scores, ignoring NaNs\n",
    "    valid_iou_scores = [iou for iou in present_iou_list if not np.isnan(iou)]\n",
    "    return iou_list, present_iou_list, valid_iou_scores, np.mean(valid_iou_scores) if valid_iou_scores else float('nan')\n",
    "\n",
    "# Note: You'll need to replace 'F.softmax' and 'torch.argmax' with the appropriate calls to your prediction tensor,\n",
    "# and ensure your label and pred tensors are in the correct shape and format.\n",
    "\n",
    "def normalize_and_discretize_for_mIoU(label, pred, num_classes=9):\n",
    "    # Ensure pred and label are torch tensors\n",
    "    pred = torch.tensor(pred, dtype=torch.float32)\n",
    "    label = torch.tensor(label, dtype=torch.float32)\n",
    "    \n",
    "    # Normalize by dividing by the maximum value in each tensor\n",
    "    pred_argmax = torch.argmax(pred, dim=1)\n",
    "    pred_max = pred_argmax.max() if pred_argmax.max() > 0 else 1  # Avoid division by zero\n",
    "    label_max = label.max() if label.max() > 0 else 1\n",
    "    pred_normalized = pred_argmax / pred_max\n",
    "    label_normalized = label / label_max\n",
    "    \n",
    "#     print(pred_normalized.shape)\n",
    "    \n",
    "#     print(label_normalized.shape)\n",
    "\n",
    "    # Discretize the normalized values\n",
    "    pred_discrete = torch.round(pred_normalized * (num_classes - 1)).long()\n",
    "    label_discrete = torch.round(label_normalized * (num_classes - 1)).long()\n",
    "\n",
    "    # Flatten the tensors if they're not already, to prepare for mIoU calculation\n",
    "    pred_flat = pred_discrete.view(-1)\n",
    "    label_flat = label_discrete.view(-1)\n",
    "\n",
    "    iou_list = []\n",
    "    present_iou_list = []\n",
    "\n",
    "    for sem_class in range(num_classes):\n",
    "        pred_inds = (pred_flat == sem_class)\n",
    "        target_inds = (label_flat == sem_class)\n",
    "\n",
    "        if target_inds.long().sum().item() == 0:\n",
    "            iou_now = float('nan')  # Class not present in the label\n",
    "        else:\n",
    "            intersection_now = (pred_inds & target_inds).long().sum().item()\n",
    "            union_now = pred_inds.long().sum().item() + target_inds.long().sum().item() - intersection_now\n",
    "            iou_now = float(intersection_now) / float(union_now)\n",
    "            present_iou_list.append(iou_now)\n",
    "\n",
    "        iou_list.append(iou_now)\n",
    "\n",
    "    # Compute the mean of the present IoU scores, ignoring NaNs\n",
    "    valid_iou_scores = [iou for iou in present_iou_list if not np.isnan(iou)]\n",
    "    return present_iou_list, np.mean(valid_iou_scores) if valid_iou_scores else float('nan')\n",
    "\n",
    "\n",
    "\n",
    "def compute_mIOU_for_region(label_region, pred_region, mIOU_fn, num_classes=9):\n",
    "    _,_, mean_iou = mIOU_fn(label_region, pred_region, num_classes)\n",
    "    return mean_iou\n",
    "\n",
    "def regionalize_and_visualize_mIoU(label, pred, num_classes=9, grid_size=(8, 8), mIOU_fn=mIOU):\n",
    "    # Assuming the 'label' and 'pred' are [C, H, W] where C is the number of classes\n",
    "    height, width = label.shape[-2:]\n",
    "    region_height = height // grid_size[0]\n",
    "    region_width = width // grid_size[1]\n",
    "\n",
    "    heatmap = np.zeros(grid_size)\n",
    "    \n",
    "    for i in range(grid_size[0]):\n",
    "        for j in range(grid_size[1]):\n",
    "            label_region = label[:, i*region_height:(i+1)*region_height, j*region_width:(j+1)*region_width]\n",
    "            pred_region = pred[:, :, i*region_height:(i+1)*region_height, j*region_width:(j+1)*region_width]\n",
    "#             print(label_region.shape)\n",
    "#             print(pred_region.shape)\n",
    "            \n",
    "            mean_iou = compute_mIOU_for_region(label_region, pred_region, mIOU_fn, num_classes)\n",
    "            heatmap[i, j] = mean_iou\n",
    "    \n",
    "    # Normalize heatmap for visualization\n",
    "    heatmap_normalized = heatmap\n",
    "    \n",
    "    return heatmap\n",
    "   \n",
    "def compute_agreement_for_region(label_region, pred_region, mIOU_fn, num_classes=9):\n",
    "    mean_iou = mIOU_fn(label_region, pred_region)\n",
    "    return mean_iou\n",
    "\n",
    "def regionalize_and_visualize_agreement(label, pred, num_classes=9, grid_size=(8, 8), mIOU_fn=coutning_agreement):\n",
    "    # Assuming the 'label' and 'pred' are [C, H, W] where C is the number of classes\n",
    "    height, width = label.shape[-2:]\n",
    "    region_height = height // grid_size[0]\n",
    "    region_width = width // grid_size[1]\n",
    "\n",
    "    heatmap = np.zeros(grid_size)\n",
    "    \n",
    "    for i in range(grid_size[0]):\n",
    "        for j in range(grid_size[1]):\n",
    "            label_region = label[:, i*region_height:(i+1)*region_height, j*region_width:(j+1)*region_width]\n",
    "            pred_region = pred[:, i*region_height:(i+1)*region_height, j*region_width:(j+1)*region_width]\n",
    "#             print(label_region.shape)\n",
    "#             print(pred_region.shape)\n",
    "            \n",
    "            mean_iou = compute_agreement_for_region(label_region, pred_region, mIOU_fn, num_classes)\n",
    "            heatmap[i, j] = mean_iou\n",
    "    \n",
    "    # Normalize heatmap for visualization\n",
    "    heatmap_normalized = heatmap\n",
    "    \n",
    "    return heatmap\n",
    "    \n",
    "\n",
    "def calculate_score_faster(mask_gt, mask_pred, r):\n",
    "    \n",
    "    mask_gt = mask_gt.cpu().detach().numpy().squeeze()\n",
    "    mask_pred = mask_pred.cpu().detach().numpy().squeeze()\n",
    "    \n",
    "    width, height = mask_gt.shape\n",
    "    scores = np.zeros((width, height))  \n",
    "\n",
    "\n",
    "    class_distances = {}\n",
    "    for class_value in np.unique(mask_gt):\n",
    "        class_mask = (mask_gt == class_value)\n",
    "        class_distances[class_value] = distance_transform_edt(~class_mask)\n",
    "\n",
    "\n",
    "    for y in range(height):\n",
    "        for x in range(width):\n",
    "            gt_class = mask_gt[x, y]\n",
    "            pred_class = mask_pred[x, y]\n",
    "\n",
    "\n",
    "            dist_map = class_distances[gt_class]\n",
    "\n",
    "\n",
    "            near_match = dist_map[x, y] <= r and dist_map[x, y] > 0\n",
    "\n",
    "\n",
    "            exact_match = pred_class == gt_class\n",
    "            tolerance_match = abs(pred_class - gt_class) <= 1\n",
    "\n",
    "\n",
    "            pixel_score = 0\n",
    "            \n",
    "#             if exact_match and near_match:\n",
    "#                 pixel_score = max(pixel_score, 50)\n",
    "                \n",
    "            if exact_match and dist_map[x, y] == 0:\n",
    "                pixel_score = max(pixel_score, 100)\n",
    "#                 print(pred_class)\n",
    "                \n",
    "#             if tolerance_match and dist_map[x, y] == 0:\n",
    "#                 pixel_score = max(pixel_score, 50)\n",
    "                \n",
    "#             if tolerance_match and near_match:\n",
    "#                 pixel_score = max(pixel_score, 25)\n",
    "\n",
    "\n",
    "            scores[x, y] = pixel_score\n",
    "\n",
    "\n",
    "    max_score = height * width * 100\n",
    "    normalized_score = np.sum(scores) / max_score\n",
    "\n",
    "    return normalized_score\n",
    "\n",
    "def coutning_agreement(mask_gt, mask_pred):\n",
    "    \n",
    "    mask_gt = mask_gt.cpu().detach().numpy().squeeze()\n",
    "    mask_pred = mask_pred.cpu().detach().numpy().squeeze()\n",
    "    \n",
    "    width, height = mask_gt.shape\n",
    "    \n",
    "    count = 0\n",
    "    \n",
    "    for i in range(width):\n",
    "        for j in range(height):\n",
    "            \n",
    "            if mask_gt[i,j] == mask_pred[i,j]:\n",
    "                count = count + 1\n",
    "                \n",
    "    return count / (width*height)\n",
    "    \n",
    "    \n",
    "    "
   ]
  },
  {
   "cell_type": "code",
   "execution_count": 203,
   "id": "637c44f5",
   "metadata": {},
   "outputs": [
    {
     "data": {
      "text/plain": [
       "<All keys matched successfully>"
      ]
     },
     "execution_count": 203,
     "metadata": {},
     "output_type": "execute_result"
    }
   ],
   "source": [
    "model_new_loss = RGB_DEM_to_SO(resnet_output_size=(8, 8), \n",
    "                            fusion_output_size=(128, 128), \n",
    "                            model_choice = \"Unet_1\", \n",
    "                            resnet_saved_model_path=pretrained_model_path,\n",
    "                            dropout_rate=0.5).to(device)\n",
    "\n",
    "model_old_loss = RGB_DEM_to_SO(resnet_output_size=(8, 8), \n",
    "                            fusion_output_size=(128, 128), \n",
    "                            model_choice = \"Unet_1\", \n",
    "                            resnet_saved_model_path=pretrained_model_path,\n",
    "                            dropout_rate=0.5).to(device)\n",
    "\n",
    "model_base = RGB_DEM_to_SO(resnet_output_size=(8, 8), \n",
    "                            fusion_output_size=(128, 128), \n",
    "                            model_choice = \"Unet_1\", \n",
    "                            resnet_saved_model_path=pretrained_model_path,\n",
    "                            dropout_rate=0.5).to(device)\n",
    "\n",
    "state_dict_old = torch.load('./artifacts/model_epoch_200:v6/model_epoch_200.pth')\n",
    "# new_state_dict_old = {k.replace('module.', ''): v for k, v in state_dict_old.items()}\n",
    "\n",
    "state_dict_new = torch.load('./artifacts/new_loss/model_epoch_600.pth')\n",
    "# new_state_dict_new = {k.replace('module.', ''): v for k, v in state_dict_new.items()}\n",
    "\n",
    "model_old_loss.load_state_dict(new_state_dict_old)\n",
    "model_new_loss.load_state_dict(new_state_dict_new)"
   ]
  },
  {
   "cell_type": "code",
   "execution_count": 272,
   "id": "def5f33e",
   "metadata": {},
   "outputs": [],
   "source": [
    "model_old_loss.eval()\n",
    "model_new_loss.eval()\n",
    "val_iter = iter(val_loader)"
   ]
  },
  {
   "cell_type": "code",
   "execution_count": 291,
   "id": "216e814b",
   "metadata": {},
   "outputs": [
    {
     "name": "stdout",
     "output_type": "stream",
     "text": [
      "Mean IoU for Old model: 0.4375838355908153\n",
      "Mean IoU for New model: 0.45384269331232563\n",
      "New Metric for Old model: 0.75457763671875\n",
      "New Metric for New model: 0.78631591796875\n",
      "clDice Metric for Old model: 0.5838617729887091\n",
      "clDice Metric for New model: 0.5931627186612474\n",
      "0.75457763671875\n"
     ]
    },
    {
     "data": {
      "image/png": "[encoded data removed]",
      "text/plain": [
       "<Figure size 1200x600 with 6 Axes>"
      ]
     },
     "metadata": {},
     "output_type": "display_data"
    }
   ],
   "source": [
    "import time\n",
    "\n",
    "batch = next(val_iter)\n",
    "dem = batch['DEM'].to(device)\n",
    "so = batch['SO'].to(device)\n",
    "rgbs = [batch['RGB'][k].to(device) for k in range(6)]\n",
    "\n",
    "start = time.time()\n",
    "new_val_outputs = model_new_loss(dem, rgbs)\n",
    "old_val_outputs = model_old_loss(dem, rgbs)\n",
    "end = time.time()\n",
    "\n",
    "# print(end - start)\n",
    "# loss = criterion(val_outputs, so)\n",
    "\n",
    "\n",
    "\n",
    "_, _, old_iou = mIOU(so, old_val_outputs)\n",
    "_, _, new_iou = mIOU(so, new_val_outputs)\n",
    "\n",
    "new_cldice_score, _ = mIOU_clDice(so, new_val_outputs)\n",
    "old_cldice_score, _ = mIOU_clDice(so, old_val_outputs)\n",
    "# iou_list_tol, present_iou_list_tol, valid_iou_scores, iou_tol = mIOU_with_tolerance(so, val_outputs)\n",
    "# present_iou_list_norm, iou_norm = normalize_and_discretize_for_mIoU(so, val_outputs)\n",
    "# iou_list_tt, present_iou_list_tt, iou_tt = mIOU_with_true_toleramce(so, val_outputs)\n",
    "\n",
    "\n",
    "# heatmap_new = regionalize_and_visualize_mIoU(so, new_val_outputs, num_classes=9, grid_size=(8, 8), mIOU_fn=mIOU)\n",
    "# heatmap_old = regionalize_and_visualize_mIoU(so, old_val_outputs, num_classes=9, grid_size=(8, 8), mIOU_fn=mIOU)\n",
    "\n",
    "pred_new = F.softmax(new_val_outputs, dim=1)              \n",
    "pred_new = torch.argmax(pred_new, dim=1).squeeze(1)\n",
    "\n",
    "pred_old = F.softmax(old_val_outputs, dim=1)              \n",
    "pred_old = torch.argmax(pred_old, dim=1).squeeze(1)\n",
    "\n",
    "heatmap_new = regionalize_and_visualize_agreement(so, pred_new, num_classes=9, grid_size=(8, 8))\n",
    "heatmap_old = regionalize_and_visualize_agreement(so, pred_old, num_classes=9, grid_size=(8, 8))\n",
    "\n",
    "\n",
    "pred_test = torch.tensor(np.ones(pred_old.shape))\n",
    "\n",
    "old_new_metric = calculate_score_faster(so, pred_old, r=0)\n",
    "new_new_metric = calculate_score_faster(so, pred_new, r=0)\n",
    "# Flatten the tensor to a single dimension for mean and std calculation\n",
    "flat_labels = so.flatten()\n",
    "\n",
    "# Calculate mean and standard deviation\n",
    "mean_label = flat_labels.float().mean()\n",
    "std_label = flat_labels.float().std()\n",
    "\n",
    "# print(flat_labels.max())\n",
    "# print(f\"Mean label: {mean_label.item()}\")\n",
    "# print(f\"Standard deviation: {std_label.item()}\")\n",
    "\n",
    "print(f\"Mean IoU for Old model: {old_iou}\")\n",
    "print(f\"Mean IoU for New model: {new_iou}\")\n",
    "\n",
    "print(f\"New Metric for Old model: {old_new_metric}\")\n",
    "print(f\"New Metric for New model: {new_new_metric}\")\n",
    "\n",
    "print(f\"clDice Metric for Old model: {old_cldice_score}\")\n",
    "print(f\"clDice Metric for New model: {new_cldice_score}\")\n",
    "\n",
    "print(coutning_aggrement(so, pred_old))\n",
    "\n",
    "fig, axs = plt.subplots(1, 3, figsize=(12, 6))\n",
    "\n",
    "# Plot for predicted\n",
    "im1 = axs[0].imshow(pred_old.cpu().numpy().squeeze(), alpha=0.9)\n",
    "axs[0].set_title(\"Predicted\")\n",
    "fig.colorbar(im1, ax=axs[0], orientation='horizontal', shrink=0.7)\n",
    "\n",
    "# Plot for ground truth\n",
    "im2 = axs[1].imshow(so.cpu().numpy().squeeze(), alpha=0.9)\n",
    "axs[1].set_title(\"Ground Truth\")\n",
    "fig.colorbar(im2, ax=axs[1], orientation='horizontal', shrink=0.7)\n",
    "\n",
    "im3 = axs[2].imshow(heatmap_old, cmap='hot', alpha=0.9)\n",
    "axs[2].set_title(\"Agreement Heatmap\")\n",
    "fig.colorbar(im3, ax=axs[2], orientation='horizontal', shrink=0.7)\n",
    "\n",
    "# im4 = axs[1,0].imshow(pred_new.cpu().numpy().squeeze(), alpha=0.9)\n",
    "# axs[1,0].set_title(\"New Loss Predicted\")\n",
    "# fig.colorbar(im4, ax=axs[1,0], orientation='horizontal', shrink=0.7)\n",
    "\n",
    "# # Plot for ground truth\n",
    "# im5 = axs[1,1].imshow(so.cpu().numpy().squeeze(), alpha=0.9)\n",
    "# axs[1,1].set_title(\"Ground Truth\")\n",
    "# fig.colorbar(im5, ax=axs[1,1], orientation='horizontal', shrink=0.7)\n",
    "\n",
    "# im6 = axs[1,2].imshow(heatmap_new, cmap='hot', alpha=0.9)\n",
    "# axs[1,2].set_title(\"New Loss IoU Heatmap\")\n",
    "# fig.colorbar(im6, ax=axs[1,2], orientation='horizontal', shrink=0.7)\n",
    "\n",
    "plt.show()\n",
    "\n",
    "# plt.imshow(heatmap, cmap='hot', alpha=0.5)\n",
    "# plt.colorbar()\n",
    "# plt.title(\"Regional mIoU Heatmap\")\n",
    "# plt.show()"
   ]
  },
  {
   "cell_type": "code",
   "execution_count": 80,
   "id": "6268459d",
   "metadata": {},
   "outputs": [
    {
     "data": {
      "text/plain": [
       "5"
      ]
     },
     "execution_count": 80,
     "metadata": {},
     "output_type": "execute_result"
    }
   ],
   "source": [
    "np.max(np.unique(so.cpu().numpy().squeeze()))"
   ]
  },
  {
   "cell_type": "markdown",
   "id": "16782f79",
   "metadata": {},
   "source": [
    "# Data Statistics"
   ]
  },
  {
   "cell_type": "code",
   "execution_count": 258,
   "id": "99eecc31",
   "metadata": {},
   "outputs": [],
   "source": [
    "from collections import defaultdict\n",
    "\n",
    "def compute_stream_order_percentages(dataloader: DataLoader):\n",
    "\n",
    "    stream_order_counts = defaultdict(int)\n",
    "    stream_order_image_counts = defaultdict(int)\n",
    "    total_count = 0\n",
    "    \n",
    "\n",
    "    for batch in tqdm(dataloader):\n",
    "\n",
    "        dem = batch['DEM'].to(device)\n",
    "        so = batch['SO'].to(device)\n",
    "        rgbs = [batch['RGB'][k].to(device) for k in range(6)]\n",
    "        \n",
    "\n",
    "        ground_truth_list = so.flatten().tolist()\n",
    "        \n",
    "        unique_stream_orders = torch.unique(so).tolist()\n",
    "\n",
    "        for stream_order in ground_truth_list:\n",
    "            stream_order_counts[stream_order] += 1\n",
    "            total_count += 1\n",
    "        for stream_order in unique_stream_orders:\n",
    "                stream_order_image_counts[stream_order] += 1\n",
    "    \n",
    "\n",
    "    stream_order_percentages = {k: (v / total_count) * 100 for k, v in stream_order_counts.items()}\n",
    "    \n",
    "    return stream_order_percentages, stream_order_image_counts"
   ]
  },
  {
   "cell_type": "code",
   "execution_count": 259,
   "id": "a97ad015",
   "metadata": {},
   "outputs": [
    {
     "name": "stderr",
     "output_type": "stream",
     "text": [
      "100%|████████████████████████████████████████████████████████████████████████████████████████████████████████| 3373/3373 [00:47<00:00, 70.85it/s]\n"
     ]
    }
   ],
   "source": [
    "percentages, stream_order_image_counts = compute_stream_order_percentages(val_loader)"
   ]
  },
  {
   "cell_type": "code",
   "execution_count": 262,
   "id": "6c89cf98",
   "metadata": {},
   "outputs": [
    {
     "data": {
      "text/plain": [
       "{2: 14.210632848979952,\n",
       " 1: 47.01400743264527,\n",
       " 0: 28.672711360783243,\n",
       " 4: 2.4446235790190483,\n",
       " 3: 6.733084304587904,\n",
       " 5: 0.614073747984917,\n",
       " 6: 0.23212178397383634,\n",
       " 7: 0.0747006617347317,\n",
       " 8: 0.004044280291098428}"
      ]
     },
     "execution_count": 262,
     "metadata": {},
     "output_type": "execute_result"
    }
   ],
   "source": [
    "percentages"
   ]
  },
  {
   "cell_type": "code",
   "execution_count": 260,
   "id": "677958df",
   "metadata": {},
   "outputs": [
    {
     "data": {
      "text/plain": [
       "defaultdict(int,\n",
       "            {0: 3373,\n",
       "             1: 3369,\n",
       "             2: 3368,\n",
       "             3: 3367,\n",
       "             4: 3351,\n",
       "             5: 3012,\n",
       "             6: 1821,\n",
       "             7: 651,\n",
       "             8: 42})"
      ]
     },
     "execution_count": 260,
     "metadata": {},
     "output_type": "execute_result"
    }
   ],
   "source": [
    "stream_order_image_counts"
   ]
  },
  {
   "cell_type": "code",
   "execution_count": 261,
   "id": "5fa4e744",
   "metadata": {},
   "outputs": [
    {
     "data": {
      "text/plain": [
       "3373"
      ]
     },
     "execution_count": 261,
     "metadata": {},
     "output_type": "execute_result"
    }
   ],
   "source": [
    "len(val_loader)"
   ]
  },
  {
   "cell_type": "code",
   "execution_count": null,
   "id": "4f1f9047",
   "metadata": {},
   "outputs": [],
   "source": []
  },
  {
   "cell_type": "code",
   "execution_count": 17,
   "id": "29c5b07a",
   "metadata": {},
   "outputs": [],
   "source": [
    "def compute_agreement(label, pred, threshold=0.5):\n",
    "    \n",
    "    pred = torch.softmax(pred, dim=1)\n",
    "    pred = torch.argmax(pred, dim=1)\n",
    "\n",
    "    match_per,diff = compare_gradients(label, pred, tolerance=0.00)\n",
    "\n",
    "    binarized_predictions = (pred > threshold).float()\n",
    "    binarized_so = (label > threshold).float()\n",
    "\n",
    "    agreement = (binarized_predictions == binarized_so).float()\n",
    "    agreement_percentage = agreement.mean().item() * 100\n",
    "    \n",
    "    return match_per, agreement_percentage\n",
    "    \n",
    "\n",
    "def compute_heatmap_for_batch(label, pred, num_classes=9, grid_size=(8, 8), mIOU_fn=mIOU):\n",
    "    height, width = label.shape[-2:]\n",
    "    region_height = height // grid_size[0]\n",
    "    region_width = width // grid_size[1]\n",
    "\n",
    "    heatmap = np.zeros(grid_size)\n",
    "    gradient_match_percent = np.zeros(grid_size)\n",
    "    total_agreement_percent = np.zeros(grid_size)\n",
    "    \n",
    "    for i in range(grid_size[0]):\n",
    "        for j in range(grid_size[1]):\n",
    "            label_region = label[:, i*region_height:(i+1)*region_height, j*region_width:(j+1)*region_width]\n",
    "            pred_region = pred[:, :, i*region_height:(i+1)*region_height, j*region_width:(j+1)*region_width]\n",
    "            \n",
    "            mean_iou = compute_mIOU_for_region(label_region, pred_region, mIOU_fn, num_classes)\n",
    "            match_per, agreement_percentage = compute_agreement(label_region, pred_region)\n",
    "            heatmap[i, j] = mean_iou\n",
    "            gradient_match_percent[i, j] = match_per\n",
    "            total_agreement_percent[i, j] = agreement_percentage\n",
    "    \n",
    "    return heatmap, gradient_match_percent, total_agreement_percent\n",
    "\n",
    "def accumulate_and_average_heatmaps(val_iter, model, num_classes=9, grid_size=(8, 8), mIOU_fn=mIOU):\n",
    "    accumulated_heatmaps = []\n",
    "    accumulated_agreement = []\n",
    "    accumulated_gradient_match = []\n",
    "    \n",
    "    for batch in tqdm(val_iter):\n",
    "        dem = batch['DEM'].to(device)\n",
    "        so = batch['SO'].to(device)\n",
    "        rgbs = [batch['RGB'][k].to(device) for k in range(6)]\n",
    "        \n",
    "        val_outputs = model(dem, rgbs)\n",
    "        heatmap, gradient_match_percent, agreement_percent = compute_heatmap_for_batch(so, val_outputs, num_classes, grid_size, mIOU_fn)\n",
    "#         print(heatmap.shape, gradient_match_percent.shape, agreement_percent.shape)\n",
    "        accumulated_heatmaps.append(heatmap)\n",
    "        accumulated_agreement.append(agreement_percent)\n",
    "        accumulated_gradient_match.append(gradient_match_percent)\n",
    "        \n",
    "    \n",
    "    # Compute the average heatmap\n",
    "    average_heatmap = np.mean(accumulated_heatmaps, axis=0)\n",
    "    average_agreement = np.mean(accumulated_agreement, axis=0)\n",
    "    average_gradient_match = np.mean(accumulated_gradient_match, axis=0)\n",
    "#     print(average_heatmap.shape, average_agreement.shape, average_gradient_match.shape)\n",
    "    return average_heatmap, average_agreement, average_gradient_match\n",
    "\n",
    "def visualize_average_heatmap(average_heatmap, title):\n",
    "#     heatmap_normalized = average_heatmap / np.nanmax(average_heatmap)\n",
    "#     plt.imshow(heatmap_normalized, cmap='hot', alpha=0.5)\n",
    "#     plt.colorbar()\n",
    "#     plt.title(\"Normalized Average Regional mIoU Heatmap\")\n",
    "#     plt.show()\n",
    "    plt.imshow(average_heatmap, cmap='hot', alpha=0.5)\n",
    "    plt.colorbar()\n",
    "    plt.title(title)\n",
    "    plt.show()"
   ]
  },
  {
   "cell_type": "code",
   "execution_count": null,
   "id": "4a80fbf1",
   "metadata": {},
   "outputs": [],
   "source": [
    "val_iter = iter(val_loader)\n",
    "average_heatmap, average_agreement, average_gradient_match = accumulate_and_average_heatmaps(val_iter, model, num_classes=9, grid_size=(8, 8), mIOU_fn=mIOU)\n",
    "# visualize_average_heatmap(average_heatmap_16)\n"
   ]
  },
  {
   "cell_type": "code",
   "execution_count": 30,
   "id": "84cec280",
   "metadata": {},
   "outputs": [
    {
     "data": {
      "text/plain": [
       "(tensor(1.3556, device='cuda:0'), tensor(0.7414, device='cuda:0'))"
      ]
     },
     "execution_count": 30,
     "metadata": {},
     "output_type": "execute_result"
    }
   ],
   "source": [
    "calculate_mean_std(val_outputs)"
   ]
  },
  {
   "cell_type": "code",
   "execution_count": 266,
   "id": "809fcdb4",
   "metadata": {},
   "outputs": [],
   "source": [
    "def calculate_average_mIOU(val_iter, model, num_classes=9, threshold=0.5):\n",
    "    total_present_iou_list = []\n",
    "    total_iou = []\n",
    "    total_present_cldice_list = []\n",
    "    total_cldice = []\n",
    "    \n",
    "    agreement_total = []\n",
    "    \n",
    "    total_new_score_list = []\n",
    "    \n",
    "    list_of_ious = []\n",
    "    list_of_ious_tol = []\n",
    "    \n",
    "    list_of_ious_tt = []\n",
    "    \n",
    "    total_present_iou_list_tol = []\n",
    "    total_iou_tol = []\n",
    "    \n",
    "    total_agreement_percentage = []\n",
    "    total_disagreement_percentage = []\n",
    "    total_false_negative_percentage = []\n",
    "    total_false_positive_percentage = []\n",
    "    \n",
    "    derivative_match_perc = []\n",
    "    \n",
    "    pred_mean_total = []\n",
    "    pred_std_total = []\n",
    "    \n",
    "    so_mean_total = []\n",
    "    so_std_total = []\n",
    "\n",
    "    for batch in tqdm(val_iter):\n",
    "        dem = batch['DEM'].to(device)\n",
    "        so = batch['SO'].to(device)\n",
    "        rgbs = [batch['RGB'][k].to(device) for k in range(6)]\n",
    "        \n",
    "        # Assuming your model's prediction step\n",
    "        val_outputs = model(dem, rgbs)\n",
    "        \n",
    "        \n",
    "        pred = torch.softmax(val_outputs, dim=1)\n",
    "        pred = torch.argmax(pred, dim=1)\n",
    "        \n",
    "        binarized_predictions = (pred > threshold)\n",
    "        binarized_so = (so > threshold)\n",
    "        \n",
    "        agreement = (binarized_predictions & binarized_so).float()\n",
    "        agreement_percentage = agreement.mean().item() * 100\n",
    "        total_agreement_percentage.append(agreement_percentage)\n",
    "        \n",
    "        agreement_binary = (binarized_predictions == binarized_so)\n",
    "        \n",
    "        pred_masked = pred * agreement\n",
    "        so_masked = so * agreement\n",
    "        \n",
    "        pred_mean, pred_std = calculate_mean_std(pred_masked)\n",
    "        so_mean, so_std = calculate_mean_std(so_masked)\n",
    "        \n",
    "        pred_mean_total.append(pred_mean.item())\n",
    "        pred_std_total.append(pred_std.item())\n",
    "        so_mean_total.append(so_mean.item())\n",
    "        so_std_total.append(so_std.item())\n",
    "        \n",
    "        \n",
    "        match_per,diff = compare_gradients(so_masked, pred_masked, tolerance=0.00)\n",
    "        \n",
    "        derivative_match_perc.append(match_per)\n",
    "        \n",
    "        \n",
    "        \n",
    "        \n",
    "        \n",
    "        false_positive = (binarized_predictions & (~binarized_so)).float()\n",
    "        false_positive_percentage = false_positive.mean().item() * 100\n",
    "        total_false_positive_percentage.append(false_positive_percentage)\n",
    "        \n",
    "        false_negative = ((~binarized_predictions) & binarized_so).float()\n",
    "        false_negative_percentage = false_negative.mean().item() * 100\n",
    "        total_false_negative_percentage.append(false_negative_percentage)\n",
    "        \n",
    "        disagreement = (~binarized_predictions & ~binarized_so).float()\n",
    "        disagreement_percentage = disagreement.mean().item() * 100  # Convert to percentage\n",
    "        total_disagreement_percentage.append(disagreement_percentage)\n",
    "\n",
    "        \n",
    "        iou_list_tt, present_iou_list_tt, iou_tt = mIOU_with_true_toleramce(so, val_outputs)\n",
    "        list_of_ious_tt.append(iou_list_tt)\n",
    "        # Calculate mIOU for the current batch\n",
    "        iou_list, present_iou_list, _ = mIOU(so, val_outputs, num_classes)\n",
    "        cldice, iou = mIOU_clDice(so, val_outputs, num_classes)\n",
    "        \n",
    "#         print(present_iou_list, iou)\n",
    "        \n",
    "        \n",
    "        pred_old = F.softmax(val_outputs, dim=1)              \n",
    "        pred_old = torch.argmax(pred_old, dim=1).squeeze(1)\n",
    "        \n",
    "#         pred_test = torch.tensor(np.zeros(pred_old.shape))\n",
    "        \n",
    "        agreement = coutning_agreement(so, pred_old)\n",
    "        new_score = calculate_score_faster(so, pred_old, r=0)\n",
    "        \n",
    "        if not np.isnan(iou):\n",
    "            total_iou.append(iou)\n",
    "        if not np.isnan(cldice):\n",
    "            total_cldice.append(cldice)\n",
    "        if not np.isnan(new_score):\n",
    "            total_new_score_list.append(new_score)\n",
    "        if not np.isnan(agreement):\n",
    "            agreement_total.append(agreement)\n",
    "        \n",
    "        \n",
    "        iou_list_tol, present_iou_list_tol, valid_iou_scores, iou_tol = mIOU_with_tolerance(so, val_outputs, num_classes)\n",
    "        if not np.isnan(iou_tol):\n",
    "            total_iou_tol.append(iou_tol)\n",
    "            \n",
    "        total_present_iou_list_tol.extend([iou for iou in valid_iou_scores if not np.isnan(iou)])\n",
    "        list_of_ious.append(iou_list)\n",
    "        list_of_ious_tol.append(iou_list_tol)\n",
    "        # Extending the list of present IoUs for all batches\n",
    "        total_present_iou_list.extend([iou for iou in present_iou_list if not np.isnan(iou)])\n",
    "        \n",
    "#         break\n",
    "    \n",
    "    # Compute the mean of present IoUs and overall IoU across all batches\n",
    "    mean_present_iou = np.mean(total_present_iou_list) if total_present_iou_list else float('nan')\n",
    "    mean_iou = np.mean(total_iou) if total_iou else float('nan')\n",
    "    \n",
    "    mean_cldice = np.mean(total_cldice) if total_cldice else float('nan')\n",
    "    \n",
    "    mean_new_score = np.mean(total_new_score_list) if total_cldice else float('nan')\n",
    "    \n",
    "    mean_agreement = np.mean(agreement_total) if agreement_total else float('nan')\n",
    "    \n",
    "    mean_present_iou_tol = np.mean(total_present_iou_list_tol) if total_present_iou_list_tol else float('nan')\n",
    "    mean_iou_tol = np.mean(total_iou_tol) if total_iou_tol else float('nan')\n",
    "    \n",
    "    mean_agreement_percentage = np.mean(total_agreement_percentage) if total_agreement_percentage else float('nan')    \n",
    "    mean_disagreement_percentage = np.mean(total_disagreement_percentage) if total_disagreement_percentage else float('nan')    \n",
    "    \n",
    "    mean_false_positive = np.mean(total_false_positive_percentage) if total_false_positive_percentage else float('nan')    \n",
    "    mean_false_negative = np.mean(total_false_negative_percentage) if total_false_negative_percentage else float('nan')    \n",
    "\n",
    "    mean_derivative_match = np.mean(derivative_match_perc)\n",
    "    \n",
    "    pred_mean = np.nanmean(pred_mean_total)\n",
    "    pred_std = np.nanmean(pred_std_total)\n",
    "    so_mean = np.nanmean(so_mean_total)\n",
    "    so_std = np.nanmean(so_std_total)\n",
    "    \n",
    "    mean_std_results = [pred_mean, pred_std, so_mean, so_std]\n",
    "    \n",
    "    return mean_present_iou, \\\n",
    "            mean_iou, \\\n",
    "            mean_present_iou_tol, \\\n",
    "            mean_iou_tol, \\\n",
    "            list_of_ious_tol, \\\n",
    "            list_of_ious, \\\n",
    "            list_of_ious_tt, \\\n",
    "            mean_agreement_percentage, \\\n",
    "            total_agreement_percentage, \\\n",
    "            mean_disagreement_percentage, \\\n",
    "            disagreement_percentage, \\\n",
    "            mean_derivative_match, \\\n",
    "            derivative_match_perc, \\\n",
    "            mean_false_positive, \\\n",
    "            mean_false_negative, \\\n",
    "            mean_std_results, \\\n",
    "            mean_cldice, \\\n",
    "            mean_new_score, \\\n",
    "            mean_agreement\n",
    "\n",
    "\n",
    "\n",
    "def kl_divergence(mu1, sigma1, mu2, sigma2):\n",
    "    \"\"\"\n",
    "    Compute the KL divergence between two Gaussian distributions.\n",
    "\n",
    "    Parameters:\n",
    "    - mu1, sigma1: Mean and standard deviation of the first Gaussian distribution.\n",
    "    - mu2, sigma2: Mean and standard deviation of the second Gaussian distribution.\n",
    "\n",
    "    Returns:\n",
    "    - The KL divergence between the two distributions.\n",
    "    \"\"\"\n",
    "    return np.log(sigma2/sigma1) + ((sigma1**2 + (mu1 - mu2)**2) / (2 * sigma2**2)) - 0.5\n",
    "\n",
    "\n",
    "def calculate_mean_std(image):\n",
    "    \n",
    "    \n",
    "#     pred = F.softmax(image, dim=1)              \n",
    "#     pred = torch.argmax(pred, dim=1).squeeze(1)\n",
    "\n",
    "    # Flatten the tensor to a single dimension for mean and std calculation\n",
    "    flat_labels = image.flatten()\n",
    "    non_zero_mask = flat_labels != 0\n",
    "    non_zero_labels = flat_labels[non_zero_mask]\n",
    "\n",
    "    # Calculate mean and standard deviation\n",
    "    mean_label = non_zero_labels.float().mean()\n",
    "    std_label = non_zero_labels.float().std()\n",
    "    \n",
    "    return mean_label, std_label\n",
    "    \n",
    "    \n",
    "def calculate_gradient_magnitude(image):\n",
    "    \"\"\"Calculate the gradient magnitude of an image using the Sobel operator.\"\"\"\n",
    "    sobel_x = torch.tensor([[-1, 0, 1], [-1, 0, 1], [-1, 0, 1]], dtype=torch.float32).view(1, 1, 3, 3).to(image.device)\n",
    "    sobel_y = torch.tensor([[-1, -1, -1], [0, 0, 0], [1, 1, 1]], dtype=torch.float32).view(1, 1, 3, 3).to(image.device)\n",
    "    \n",
    "    grad_x = F.conv2d(image.type(torch.float32), sobel_x, padding=1)\n",
    "    grad_y = F.conv2d(image.type(torch.float32), sobel_y, padding=1)\n",
    "    \n",
    "    gradient_magnitude = torch.sqrt(grad_x**2 + grad_y**2)\n",
    "    return gradient_magnitude\n",
    "\n",
    "def compare_gradients(so, predictions, tolerance=0.05):\n",
    "    \"\"\"Compare the gradient magnitudes of SO and predictions, returning the percentage of matches.\"\"\"\n",
    "#     print(so.shape)\n",
    "#     print(predictions.shape)\n",
    "    so_grad_mag = calculate_gradient_magnitude(so)\n",
    "    predictions_grad_mag = calculate_gradient_magnitude(predictions)\n",
    "    \n",
    "    # Compute the absolute difference between the two gradient magnitudes\n",
    "    diff = torch.abs(so_grad_mag - predictions_grad_mag)\n",
    "    \n",
    "    # Determine matches based on the tolerance threshold\n",
    "    matches = diff <= tolerance\n",
    "    \n",
    "    # Calculate the percentage of matches\n",
    "    match_percentage = matches.float().mean().item() * 100\n",
    "    \n",
    "    return match_percentage, diff\n",
    "\n",
    "def compare_gradients_modified(so, predictions, tolerance=0.05):\n",
    "    \"\"\"Compare the gradient magnitudes of SO and predictions, returning the percentage of matches.\"\"\"\n",
    "#     print(so.shape)\n",
    "#     print(predictions.shape)\n",
    "    so_grad_mag = calculate_gradient_magnitude(so)\n",
    "    predictions_grad_mag = calculate_gradient_magnitude(predictions)\n",
    "    \n",
    "    # Compute the absolute difference between the two gradient magnitudes\n",
    "    diff = torch.abs(so_grad_mag - predictions_grad_mag)\n",
    "    \n",
    "    # Determine matches based on the tolerance threshold\n",
    "    matches = diff <= tolerance\n",
    "    \n",
    "    # Calculate the percentage of matches\n",
    "    match_percentage = matches.float().mean().item() * 100\n",
    "    \n",
    "    return match_percentage, diff, so_grad_mag, predictions_grad_mag\n",
    "            \n"
   ]
  },
  {
   "cell_type": "code",
   "execution_count": 292,
   "id": "113aa9da",
   "metadata": {},
   "outputs": [
    {
     "name": "stderr",
     "output_type": "stream",
     "text": [
      "  0%|                                                                                                                  | 0/30360 [00:00<?, ?it/s]/home/macula/SMATousi/.conda/envs/mac-deep/lib/python3.7/site-packages/ipykernel_launcher.py:67: RuntimeWarning: invalid value encountered in ulong_scalars\n",
      "  0%|                                                                                                        | 3/30360 [00:01<2:47:50,  3.01it/s]/home/macula/SMATousi/.conda/envs/mac-deep/lib/python3.7/site-packages/ipykernel_launcher.py:86: RuntimeWarning: invalid value encountered in double_scalars\n",
      "100%|████████████████████████████████████████████████████████████████████████████████████████████████████| 30360/30360 [1:42:56<00:00,  4.92it/s]\n"
     ]
    }
   ],
   "source": [
    "val_iter = iter(val_loader)\n",
    "train_iter = iter(train_loader)\n",
    "\n",
    "mean_present_iou, \\\n",
    "mean_iou, \\\n",
    "mean_present_iou_tol, \\\n",
    "mean_iou_tol, \\\n",
    "list_of_ious_tol, \\\n",
    "list_of_ious, \\\n",
    "list_of_ious_tt, \\\n",
    "mean_agreement_percentage, \\\n",
    "total_agreement_percentage, \\\n",
    "mean_disagreement_percentage, \\\n",
    "disagreement_percentage, \\\n",
    "mean_derivative_match, \\\n",
    "derivative_match_perc, \\\n",
    "mean_false_positive, \\\n",
    "mean_false_negative,\\\n",
    "mean_std_results,\\\n",
    "mean_cldice,\\\n",
    "mean_new_score, \\\n",
    "mean_agreement = calculate_average_mIOU(train_iter, model_new_loss, num_classes=9, threshold=6.5)\n",
    "\n",
    "\n",
    "\n"
   ]
  },
  {
   "cell_type": "code",
   "execution_count": 293,
   "id": "720124bf",
   "metadata": {},
   "outputs": [
    {
     "data": {
      "text/plain": [
       "0.8289599874745245"
      ]
     },
     "execution_count": 293,
     "metadata": {},
     "output_type": "execute_result"
    },
    {
     "name": "stderr",
     "output_type": "stream",
     "text": [
      "wandb: ERROR Dropped streaming file chunk (see wandb/debug-internal.log)\n",
      "wandb: ERROR Dropped streaming file chunk (see wandb/debug-internal.log)\n",
      "wandb: ERROR Dropped streaming file chunk (see wandb/debug-internal.log)\n",
      "wandb: ERROR Dropped streaming file chunk (see wandb/debug-internal.log)\n",
      "wandb: ERROR Dropped streaming file chunk (see wandb/debug-internal.log)\n"
     ]
    }
   ],
   "source": [
    "mean_agreement"
   ]
  },
  {
   "cell_type": "code",
   "execution_count": 51,
   "id": "0fba5089",
   "metadata": {},
   "outputs": [
    {
     "name": "stdout",
     "output_type": "stream",
     "text": [
      "inf\n"
     ]
    },
    {
     "name": "stderr",
     "output_type": "stream",
     "text": [
      "/home/macula/SMATousi/.conda/envs/mac-deep/lib/python3.7/site-packages/ipykernel_launcher.py:150: RuntimeWarning: divide by zero encountered in double_scalars\n",
      "/home/macula/SMATousi/.conda/envs/mac-deep/lib/python3.7/site-packages/ipykernel_launcher.py:13: RuntimeWarning: divide by zero encountered in double_scalars\n",
      "  del sys.path[0]\n",
      "/home/macula/SMATousi/.conda/envs/mac-deep/lib/python3.7/site-packages/ipykernel_launcher.py:13: RuntimeWarning: divide by zero encountered in true_divide\n",
      "  del sys.path[0]\n",
      "/home/macula/SMATousi/.conda/envs/mac-deep/lib/python3.7/site-packages/ipykernel_launcher.py:13: RuntimeWarning: invalid value encountered in multiply\n",
      "  del sys.path[0]\n"
     ]
    },
    {
     "data": {
      "image/png": "[encoded data removed]",
      "text/plain": [
       "<Figure size 1000x600 with 1 Axes>"
      ]
     },
     "metadata": {},
     "output_type": "display_data"
    }
   ],
   "source": [
    "mean1, std1 = mean_std_results[0], mean_std_results[1]\n",
    "mean2, std2 = mean_std_results[2], mean_std_results[3]\n",
    "\n",
    "print(kl_divergence(mean1, std1, mean2, std2))\n",
    "\n",
    "# x1 = np.linspace(mean1 - 3*std1, mean1 + 3*std1, 1000)\n",
    "# y1 = (1 / (std1 * np.sqrt(2 * np.pi))) * np.exp(-0.5 * ((x1 - mean1) / std1) ** 2)\n",
    "\n",
    "# x2 = np.linspace(mean2 - 3*std2, mean2 + 3*std2, 1000)\n",
    "# y2 = (1 / (std2 * np.sqrt(2 * np.pi))) * np.exp(-0.5 * ((x2 - mean2) / std2) ** 2)\n",
    "\n",
    "x1 = np.linspace(0, 10, 1000)\n",
    "y1 = (1 / (std1 * np.sqrt(2 * np.pi))) * np.exp(-0.5 * ((x1 - mean1) / std1) ** 2)\n",
    "\n",
    "x2 = np.linspace(0, 10, 1000)\n",
    "y2 = (1 / (std2 * np.sqrt(2 * np.pi))) * np.exp(-0.5 * ((x2 - mean2) / std2) ** 2)\n",
    "\n",
    "# Plotting\n",
    "plt.figure(figsize=(10, 6))\n",
    "\n",
    "plt.plot(x1, y1, color='skyblue', label=f'Prediction (μ={round(mean1,3)}, σ={round(std1,3)})')\n",
    "plt.fill_between(x1, y1, color='skyblue', alpha=0.5)\n",
    "\n",
    "plt.plot(x2, y2, color='lightcoral', label=f'GT (μ={round(mean2,3)}, σ={round(std2,3)})')\n",
    "plt.fill_between(x2, y2, color='lightcoral', alpha=0.5)\n",
    "\n",
    "# Mean lines\n",
    "plt.axvline(mean1, color='blue', linestyle='dashed', label=f'Prediction Mean = {round(mean1,3)}')\n",
    "plt.axvline(mean2, color='red', linestyle='dashed', label=f'GT Mean = {round(mean2,3)}')\n",
    "\n",
    "# Legend and labels\n",
    "plt.legend()\n",
    "plt.title('Prediction level Distributions (Threshold  = 6 )')\n",
    "plt.xlabel('Value')\n",
    "plt.ylabel('Probability Density')\n",
    "\n",
    "plt.show()"
   ]
  },
  {
   "cell_type": "code",
   "execution_count": null,
   "id": "99dac185",
   "metadata": {},
   "outputs": [],
   "source": [
    "# print(mean_present_iou)\n",
    "print(\"Mean IoU = \", mean_iou)\n",
    "# print(mean_present_iou_tol)\n",
    "print(\"Mean IoU with 1 level tolerance = \", mean_iou_tol)\n",
    "\n",
    "print(\"Total Agreement = \", mean_agreement_percentage)\n",
    "\n",
    "print(\"Total false pos = \", mean_false_positive)\n",
    "print(\"Total false neg = \", mean_false_negative)\n",
    "\n",
    "print(\"Total Disagreement = \", mean_disagreement_percentage)\n",
    "\n",
    "print(\"Total derivative match = \", mean_derivative_match)\n",
    "# print(np.mean(average_heatmap))\n",
    "# visualize_average_heatmap(average_heatmap)"
   ]
  },
  {
   "cell_type": "code",
   "execution_count": null,
   "id": "038916d8",
   "metadata": {},
   "outputs": [],
   "source": [
    "model.eval()\n",
    "val_iter = iter(val_loader)"
   ]
  },
  {
   "cell_type": "code",
   "execution_count": null,
   "id": "8e7335f8",
   "metadata": {},
   "outputs": [],
   "source": [
    "\n",
    "\n",
    "import time\n",
    "\n",
    "batch = next(val_iter)\n",
    "dem = batch['DEM'].to(device)\n",
    "so = batch['SO'].to(device)\n",
    "rgbs = [batch['RGB'][k].to(device) for k in range(6)]\n",
    "\n",
    "start = time.time()\n",
    "val_outputs = model(dem, rgbs)\n",
    "end = time.time()\n",
    "\n",
    "pred = torch.softmax(val_outputs, dim=1)\n",
    "pred = torch.argmax(pred, dim=1)\n",
    "\n",
    "# match_per,diff = compare_gradients(so, pred, tolerance=0.00)\n",
    "match_percentage, diff, so_grad_mag, predictions_grad_mag = compare_gradients_modified(so, pred, tolerance=0.00)\n",
    "    \n",
    "print(\"Time of the calculation: \", end - start)\n",
    "\n",
    "loss = criterion(val_outputs, so)\n",
    "\n",
    "iou_list, present_iou_list, iou = mIOU(so, val_outputs)\n",
    "iou_list_tol, present_iou_list_tol, valid_iou_scores, iou_tol = mIOU_with_tolerance(so, val_outputs)\n",
    "present_iou_list_norm, iou_norm = normalize_and_discretize_for_mIoU(so, val_outputs)\n",
    "iou_list_tt, present_iou_list_tt, iou_tt = mIOU_with_true_toleramce(so, val_outputs)\n",
    "heatmap = regionalize_and_visualize_mIoU(so, val_outputs, num_classes=9, grid_size=(8, 8), mIOU_fn=mIOU)\n",
    "\n",
    "pred = F.softmax(val_outputs, dim=1)              \n",
    "pred = torch.argmax(pred, dim=1).squeeze(1)\n",
    "\n",
    "threshold = 1\n",
    "\n",
    "binarized_predictions = (pred > threshold)\n",
    "binarized_so = (so > threshold)\n",
    "\n",
    "masked_pred = binarized_predictions * pred\n",
    "masked_so = binarized_so * so\n",
    "\n",
    "print(\"Total Gradient agreement: \", match_percentage)\n",
    "fig, (ax1, ax2, ax3) = plt.subplots(1, 3, figsize=(12, 6))\n",
    "\n",
    "# Plot for predicted\n",
    "im1 = ax1.imshow(masked_pred.cpu().numpy().squeeze(), alpha=0.9)\n",
    "ax1.set_title(\"Predicted\")\n",
    "fig.colorbar(im1, ax=ax1, orientation='horizontal', shrink=0.7)\n",
    "\n",
    "# Plot for ground truth\n",
    "im2 = ax2.imshow(masked_so.cpu().numpy().squeeze(), alpha=0.9)\n",
    "ax2.set_title(\"Ground Truth\")\n",
    "fig.colorbar(im2, ax=ax2, orientation='horizontal', shrink=0.7)\n",
    "\n",
    "im3 = ax3.imshow(heatmap, alpha=0.9)\n",
    "ax3.set_title(\"IoU Heatmap\")\n",
    "fig.colorbar(im3, ax=ax3, orientation='horizontal', shrink=0.7)\n",
    "\n",
    "plt.show()\n",
    "\n",
    "# plt.imshow(heatmap, cmap='hot', alpha=0.5)\n",
    "# plt.colorbar()\n",
    "# plt.title(\"Regional mIoU Heatmap\")\n",
    "# plt.show()\n",
    "\n",
    "match_percentage, diff, so_grad_mag, predictions_grad_mag = compare_gradients_modified(so, pred, tolerance=0.00)\n",
    "\n",
    "fig, (ax1, ax2, ax3) = plt.subplots(1, 3, figsize=(12, 6))\n",
    "\n",
    "# Plot for predicted\n",
    "im1 = ax1.imshow(predictions_grad_mag.cpu().numpy().squeeze(), alpha=0.9)\n",
    "ax1.set_title(\"Predicted Gradient\")\n",
    "fig.colorbar(im1, ax=ax1, orientation='horizontal', shrink=0.7)\n",
    "\n",
    "# Plot for ground truth\n",
    "im2 = ax2.imshow(so_grad_mag.cpu().numpy().squeeze(), alpha=0.9)\n",
    "ax2.set_title(\"Ground Truth Gradient\")\n",
    "fig.colorbar(im2, ax=ax2, orientation='horizontal', shrink=0.7)\n",
    "\n",
    "im3 = ax3.imshow(diff.cpu().numpy().squeeze(), cmap='hot', alpha=0.9)\n",
    "ax3.set_title(\"Difference\")\n",
    "fig.colorbar(im3, ax=ax3, orientation='horizontal', shrink=0.7)\n",
    "\n",
    "plt.show()"
   ]
  },
  {
   "cell_type": "code",
   "execution_count": null,
   "id": "762ab915",
   "metadata": {},
   "outputs": [],
   "source": [
    "match_per"
   ]
  },
  {
   "cell_type": "code",
   "execution_count": null,
   "id": "e5f3d44e",
   "metadata": {},
   "outputs": [],
   "source": [
    "diff.min()"
   ]
  },
  {
   "cell_type": "code",
   "execution_count": null,
   "id": "d7a2bff4",
   "metadata": {},
   "outputs": [],
   "source": []
  },
  {
   "cell_type": "code",
   "execution_count": null,
   "id": "5e262025",
   "metadata": {},
   "outputs": [],
   "source": []
  },
  {
   "cell_type": "code",
   "execution_count": null,
   "id": "61652f4c",
   "metadata": {},
   "outputs": [],
   "source": []
  },
  {
   "cell_type": "code",
   "execution_count": null,
   "id": "e20aa021",
   "metadata": {},
   "outputs": [],
   "source": []
  },
  {
   "cell_type": "code",
   "execution_count": null,
   "id": "2bd5ff42",
   "metadata": {},
   "outputs": [],
   "source": []
  },
  {
   "cell_type": "code",
   "execution_count": null,
   "id": "a3f9b733",
   "metadata": {},
   "outputs": [],
   "source": []
  },
  {
   "cell_type": "code",
   "execution_count": null,
   "id": "9f2d6e65",
   "metadata": {},
   "outputs": [],
   "source": [
    "match_per"
   ]
  },
  {
   "cell_type": "code",
   "execution_count": null,
   "id": "9f85d47e",
   "metadata": {},
   "outputs": [],
   "source": []
  },
  {
   "cell_type": "code",
   "execution_count": null,
   "id": "670e32f3",
   "metadata": {},
   "outputs": [],
   "source": []
  },
  {
   "cell_type": "code",
   "execution_count": null,
   "id": "b7d4edfa",
   "metadata": {},
   "outputs": [],
   "source": [
    "list_of_ious_tt[2]"
   ]
  },
  {
   "cell_type": "code",
   "execution_count": null,
   "id": "e79e4136",
   "metadata": {},
   "outputs": [],
   "source": [
    "list_iou_tol_array = np.array(list_of_ious_tt)\n",
    "list_iou_array = np.array(list_of_ious)"
   ]
  },
  {
   "cell_type": "code",
   "execution_count": null,
   "id": "41038561",
   "metadata": {},
   "outputs": [],
   "source": [
    "print(np.nanmean(list_iou_tol_array, axis=0))\n",
    "print(np.nanmean(list_iou_array, axis=0))"
   ]
  },
  {
   "cell_type": "code",
   "execution_count": null,
   "id": "20c7b4c2",
   "metadata": {},
   "outputs": [],
   "source": []
  }
 ],
 "metadata": {
  "kernelspec": {
   "display_name": "Python 3 (ipykernel)",
   "language": "python",
   "name": "python3"
  },
  "language_info": {
   "codemirror_mode": {
    "name": "ipython",
    "version": 3
   },
   "file_extension": ".py",
   "mimetype": "text/x-python",
   "name": "python",
   "nbconvert_exporter": "python",
   "pygments_lexer": "ipython3",
   "version": "3.7.13"
  }
 },
 "nbformat": 4,
 "nbformat_minor": 5
}
